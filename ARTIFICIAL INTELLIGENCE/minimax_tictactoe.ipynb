{
 "cells": [
  {
   "cell_type": "code",
   "execution_count": 2,
   "metadata": {
    "executionInfo": {
     "elapsed": 328,
     "status": "ok",
     "timestamp": 1679448705122,
     "user": {
      "displayName": "최영우",
      "userId": "10444205341598276010"
     },
     "user_tz": -540
    },
    "id": "8Ey53USAvurz"
   },
   "outputs": [],
   "source": [
    "# 보드는 1차원 리스트로 구현한다. \n",
    "game_board = [' ', ' ', ' ',\n",
    "              ' ', ' ', ' ',\n",
    "              ' ', ' ', ' ']\n",
    "              \n",
    "#game_board = ['O', 'O', 'X',\n",
    "#              ' ', 'X', ' ',\n",
    "#              'O', 'X', ' ']\n",
    "\n",
    "#game_board = ['O', 'X', 'O',\n",
    "#              ' ', 'X', ' ',\n",
    "#              ' ', ' ', ' ']\n",
    "\n",
    "# 비어 있는 칸을 찾아서 리스트로 반환한다. \n",
    "def empty_cells(board):\n",
    "    cells = []\n",
    "    for x, cell in enumerate(board): #enumerate : x는 index 나옴\n",
    "        if cell == ' ':\n",
    "            cells.append(x)\n",
    "    return cells\n",
    "\n",
    "# 비어 있는 칸에는 놓을 수 있다. \n",
    "def valid_move(x):\n",
    "    return x in empty_cells(game_board) \n",
    "\n",
    "# 위치 x에 놓는다. \n",
    "def move(x, player):\n",
    "    if valid_move(x):\n",
    "        game_board[x] = player\n",
    "        return True\n",
    "    return False\n",
    "\n",
    "# 현재 게임 보드를 그린다. \n",
    "def draw(board):\n",
    "    for i, cell in enumerate(board):\n",
    "        if i % 3 == 0: \n",
    "            print('\\n----------------')\n",
    "        print('|', cell , '|', end='')\n",
    "    print('\\n----------------')\n",
    "\n",
    "# 보드의 상태를 평가한다. \n",
    "def evaluate(board):\n",
    "    if check_win(board, 'X'):\n",
    "        score = 1\n",
    "    elif check_win(board, 'O'):\n",
    "        score = -1\n",
    "    else:\n",
    "        score = 0\n",
    "    return score\n",
    "\n",
    "# 1차원 리스트에서 동일한 문자가 수평, 수직, 대각선으로 나타나면 \n",
    "# 승리한 것으로 한다. \n",
    "def check_win(board, player):\n",
    "    win_conf = [ ##이길 수 있는 경우의 수 combinations\n",
    "        [board[0], board[1], board[2]],\n",
    "        [board[3], board[4], board[5]],\n",
    "        [board[6], board[7], board[8]],\n",
    "        [board[0], board[3], board[6]],# 대각선으로 이기는 경우 1 \n",
    "        [board[1], board[4], board[7]],\n",
    "        [board[2], board[5], board[8]],\n",
    "        [board[0], board[4], board[8]],\n",
    "        [board[2], board[4], board[6]],\n",
    "    ]\n",
    "    return [player, player, player] in win_conf\n",
    "\n",
    "# 1차원 리스트에서 동일한 문자가 수평, 수직, 대각선으로 나타나면 \n",
    "# 승리한 것으로서 게임이 끝난다. \n",
    "def game_over(board):\n",
    "    return check_win(board, 'X') or check_win(board, 'O')\n",
    "\n",
    "# 미니맥스 알고리즘, 이 함수는 순환적으로 호출된다. \n",
    "def minimax(board, depth, maxPlayer):\n",
    "    pos = -1\n",
    "    # 단말 노드이면 보드를 평가하여 위치와 평가값을 반환한다. \n",
    "    if depth == 0 or len(empty_cells(board)) == 0 or game_over(board):\n",
    "        return -1, evaluate(board)\n",
    "\n",
    "    if maxPlayer:\n",
    "        value = -10000  # 음의 무한대\n",
    "        # 자식 노드를 하나씩 평가하여서 최선의 수를 찾는다. \n",
    "        for p in empty_cells(board):\n",
    "            board[p] = 'X'\t\t# 보드의 p 위치에 'X'을 놓는다. \n",
    "\n",
    "            # 경기자를 교체하여서 minimax()를 순환호출한다. \n",
    "            x, score = minimax(board, depth-1, False)\n",
    "            board[p] = ' '\t\t# 보드는 원 상태로 돌린다. \n",
    "            if score > value: ## 만약 1=1 이렇게 나오면 먼저 나온걸 선택한다~ \n",
    "                value = score \t# 최대값을 취한다. \n",
    "                pos = p\t\t# 최대값의 위치를 기억한다. \n",
    "    else:\n",
    "        value = +10000  # 양의 무한대\n",
    "        # 자식 노드를 하나씩 평가하여서 최선의 수를 찾는다. \n",
    "        for p in empty_cells(board):\n",
    "            board[p] = 'O'\t\t# 보드의 p 위치에 'O'을 놓는다. \n",
    "\n",
    "            # 경기자를 교체하여서 minimax()를 순환호출한다. \n",
    "            x, score = minimax(board, depth-1, True)\n",
    "            board[p] =  ' '\t\t# 보드는 원 상태로 돌린다. \n",
    "            if score < value:\n",
    "                value = score \t# 최소값을 취한다. \n",
    "                pos = p\t\t# 최소값의 위치를 기억한다. \n",
    "    return pos, value\t# 위치와 값을 반환한다. \n"
   ]
  },
  {
   "cell_type": "code",
   "execution_count": 3,
   "metadata": {
    "colab": {
     "base_uri": "https://localhost:8080/"
    },
    "executionInfo": {
     "elapsed": 742,
     "status": "ok",
     "timestamp": 1679448810797,
     "user": {
      "displayName": "최영우",
      "userId": "10444205341598276010"
     },
     "user_tz": -540
    },
    "id": "JdoeQrJdv8Li",
    "outputId": "f49c98f8-8e5a-49ed-9295-bebbe152cb57"
   },
   "outputs": [
    {
     "name": "stdout",
     "output_type": "stream",
     "text": [
      "\n",
      "----------------\n",
      "|   ||   ||   |\n",
      "----------------\n",
      "|   ||   ||   |\n",
      "----------------\n",
      "|   ||   ||   |\n",
      "----------------\n",
      "\n",
      "----------------\n",
      "| X ||   ||   |\n",
      "----------------\n",
      "|   ||   ||   |\n",
      "----------------\n",
      "|   ||   ||   |\n",
      "----------------\n",
      "\n",
      "----------------\n",
      "| X ||   ||   |\n",
      "----------------\n",
      "|   || O ||   |\n",
      "----------------\n",
      "|   ||   ||   |\n",
      "----------------\n",
      "\n",
      "----------------\n",
      "| X || X ||   |\n",
      "----------------\n",
      "|   || O ||   |\n",
      "----------------\n",
      "|   ||   ||   |\n",
      "----------------\n",
      "\n",
      "----------------\n",
      "| X || X || O |\n",
      "----------------\n",
      "|   || O ||   |\n",
      "----------------\n",
      "|   ||   ||   |\n",
      "----------------\n",
      "\n",
      "----------------\n",
      "| X || X || O |\n",
      "----------------\n",
      "|   || O ||   |\n",
      "----------------\n",
      "| X ||   ||   |\n",
      "----------------\n",
      "\n",
      "----------------\n",
      "| X || X || O |\n",
      "----------------\n",
      "| O || O ||   |\n",
      "----------------\n",
      "| X ||   ||   |\n",
      "----------------\n",
      "\n",
      "----------------\n",
      "| X || X || O |\n",
      "----------------\n",
      "| O || O || X |\n",
      "----------------\n",
      "| X ||   ||   |\n",
      "----------------\n",
      "\n",
      "----------------\n",
      "| X || X || O |\n",
      "----------------\n",
      "| O || O || X |\n",
      "----------------\n",
      "| X || O ||   |\n",
      "----------------\n",
      "\n",
      "----------------\n",
      "| X || X || O |\n",
      "----------------\n",
      "| O || O || X |\n",
      "----------------\n",
      "| X || O || X |\n",
      "----------------\n",
      "비겼습니다!\n"
     ]
    }
   ],
   "source": [
    "# 메인 프로그램\n",
    "player='X'\n",
    "\n",
    "while True:\n",
    "    draw(game_board)\n",
    "    if len(empty_cells(game_board)) == 0 or game_over(game_board):\n",
    "        break\n",
    "    i, v = minimax(game_board, 9, player=='X')# 칸이 9개(depth라 생각할 수도 있음)\n",
    "    move(i, player) #움직일 수 있는지 판정 \n",
    "    if player=='X': #player 순서 변경 \n",
    "        player='O'\n",
    "    else: \n",
    "        player='X'\n",
    "\n",
    "if check_win(game_board, 'X'):\n",
    "    print('X 승리!')\n",
    "elif check_win(game_board, 'O'):\n",
    "    print('O 승리!')\n",
    "else:\n",
    "    print('비겼습니다!')"
   ]
  },
  {
   "cell_type": "code",
   "execution_count": 1,
   "metadata": {
    "colab": {
     "base_uri": "https://localhost:8080/"
    },
    "executionInfo": {
     "elapsed": 313,
     "status": "ok",
     "timestamp": 1679448108721,
     "user": {
      "displayName": "최영우",
      "userId": "10444205341598276010"
     },
     "user_tz": -540
    },
    "id": "beKRKNqo0jg6",
    "outputId": "173e5629-e433-41ef-f6ee-986c5bea780e"
   },
   "outputs": [
    {
     "name": "stdout",
     "output_type": "stream",
     "text": [
      "0 O\n",
      "1 O\n",
      "2 X\n",
      "3  \n",
      "4 X\n",
      "5  \n",
      "6 O\n",
      "7 X\n",
      "8  \n",
      "[0, 1, 2, 3, 4, 5, 6, 7, 8]\n",
      "[3, 5, 8]\n"
     ]
    }
   ],
   "source": [
    "board = ['O', 'O', 'X',\n",
    "         ' ', 'X', ' ',\n",
    "         'O', 'X', ' ']\n",
    "\n",
    "cells = []\n",
    "for x, cell in enumerate(board):\n",
    "    print(x, cell)\n",
    "    cells.append(x)\n",
    "print(cells)\n",
    "\n",
    "cells1 = []\n",
    "for x, cell in enumerate(board):\n",
    "    if cell == ' ':\n",
    "        cells1.append(x)\n",
    "print(cells1) ##[3,5,8] : 3, 5, 8 index에 빈칸이 존재 "
   ]
  },
  {
   "cell_type": "code",
   "execution_count": 4,
   "metadata": {
    "colab": {
     "base_uri": "https://localhost:8080/"
    },
    "executionInfo": {
     "elapsed": 10,
     "status": "ok",
     "timestamp": 1679447015133,
     "user": {
      "displayName": "최영우",
      "userId": "10444205341598276010"
     },
     "user_tz": -540
    },
    "id": "gj-OGhfH1Yrv",
    "outputId": "f1679ff8-6af9-4eb6-b7db-37943a0c501c"
   },
   "outputs": [
    {
     "name": "stdout",
     "output_type": "stream",
     "text": [
      "True\n",
      "False\n"
     ]
    }
   ],
   "source": [
    "win_conf = [[0, 0, 0], [0, 0, 1], [0, 1, 0]]\n",
    "\n",
    "print([0, 0, 0] in win_conf)\n",
    "print([0, 1, 1] in win_conf)"
   ]
  },
  {
   "cell_type": "code",
   "execution_count": null,
   "metadata": {
    "id": "a5oN8iRB1wnU"
   },
   "outputs": [],
   "source": []
  }
 ],
 "metadata": {
  "colab": {
   "authorship_tag": "ABX9TyOOuUCUsEPCx3AXiJZIXI5C",
   "provenance": []
  },
  "gpuClass": "standard",
  "kernelspec": {
   "display_name": "Python 3 (ipykernel)",
   "language": "python",
   "name": "python3"
  },
  "language_info": {
   "codemirror_mode": {
    "name": "ipython",
    "version": 3
   },
   "file_extension": ".py",
   "mimetype": "text/x-python",
   "name": "python",
   "nbconvert_exporter": "python",
   "pygments_lexer": "ipython3",
   "version": "3.9.12"
  }
 },
 "nbformat": 4,
 "nbformat_minor": 1
}
